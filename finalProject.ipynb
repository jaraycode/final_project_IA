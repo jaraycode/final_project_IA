{
 "cells": [
  {
   "cell_type": "markdown",
   "metadata": {},
   "source": [
    "# Projecto final\n",
    "## Pasos iniciales\n",
    "1. Se crea un nuevo ambiente virtual de python con el comando *python -m virtualenv venv*\n",
    "2. Se importan los paquetes que se necesitan para el desarrollo de este modelo\n",
    "3. Se procede con identificar el lugar donde el dataset está ubicado"
   ]
  },
  {
   "cell_type": "code",
   "execution_count": null,
   "metadata": {},
   "outputs": [],
   "source": [
    "!python -m virtualenv venv\n",
    "!source ./venv/bin/activate"
   ]
  },
  {
   "cell_type": "code",
   "execution_count": null,
   "metadata": {},
   "outputs": [],
   "source": [
    "import tensorflow as tf\n",
    "import pandas as pd"
   ]
  }
 ],
 "metadata": {
  "kernelspec": {
   "display_name": "venv",
   "language": "python",
   "name": "python3"
  },
  "language_info": {
   "name": "python",
   "version": "3.12.3"
  }
 },
 "nbformat": 4,
 "nbformat_minor": 2
}
